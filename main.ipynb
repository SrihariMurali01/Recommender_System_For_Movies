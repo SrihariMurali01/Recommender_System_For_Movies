{
 "cells": [
  {
   "cell_type": "markdown",
   "id": "aa960f1c1335dccd",
   "metadata": {
    "collapsed": false
   },
   "source": [
    "### Recommender System using Collaborative Filtering Model using Neural Networks"
   ]
  },
  {
   "cell_type": "code",
   "execution_count": 14,
   "id": "e68f46c9b11eefec",
   "metadata": {
    "ExecuteTime": {
     "end_time": "2023-11-17T21:20:37.851126300Z",
     "start_time": "2023-11-17T21:20:37.608267100Z"
    },
    "collapsed": false
   },
   "outputs": [],
   "source": [
    "import pandas as pd\n",
    "import numpy as np\n",
    "\n",
    "from sklearn.model_selection import train_test_split\n",
    "from sklearn.preprocessing import LabelEncoder #Label Encoding for User and Movie Ids\n",
    "\n",
    "from keras.models import Model\n",
    "from keras.layers import Input, Embedding, Flatten, concatenate, Dense\n",
    "from keras.optimizers import Adam # Adam optimizer"
   ]
  },
  {
   "cell_type": "code",
   "execution_count": 15,
   "id": "cff2d60bc845442b",
   "metadata": {
    "ExecuteTime": {
     "end_time": "2023-11-17T21:20:50.021942500Z",
     "start_time": "2023-11-17T21:20:37.631364800Z"
    },
    "collapsed": false
   },
   "outputs": [],
   "source": [
    "df_movies = pd.read_csv('movies.csv').head(62424)\n",
    "df_ratings = pd.read_csv('ratings.csv').head(1048576)"
   ]
  },
  {
   "cell_type": "code",
   "execution_count": 16,
   "id": "3614fa7a5b16877e",
   "metadata": {
    "ExecuteTime": {
     "end_time": "2023-11-17T21:20:50.268157600Z",
     "start_time": "2023-11-17T21:20:50.023937500Z"
    },
    "collapsed": false
   },
   "outputs": [],
   "source": [
    "#Merging movies and their ratings given\n",
    "dfMerged = pd.merge(df_ratings, df_movies, on='movieId')"
   ]
  },
  {
   "cell_type": "code",
   "execution_count": 17,
   "id": "736b696a3eda6012",
   "metadata": {
    "ExecuteTime": {
     "end_time": "2023-11-17T21:20:50.330508300Z",
     "start_time": "2023-11-17T21:20:50.273156300Z"
    },
    "collapsed": false
   },
   "outputs": [
    {
     "data": {
      "text/html": [
       "<div>\n",
       "<style scoped>\n",
       "    .dataframe tbody tr th:only-of-type {\n",
       "        vertical-align: middle;\n",
       "    }\n",
       "\n",
       "    .dataframe tbody tr th {\n",
       "        vertical-align: top;\n",
       "    }\n",
       "\n",
       "    .dataframe thead th {\n",
       "        text-align: right;\n",
       "    }\n",
       "</style>\n",
       "<table border=\"1\" class=\"dataframe\">\n",
       "  <thead>\n",
       "    <tr style=\"text-align: right;\">\n",
       "      <th></th>\n",
       "      <th>userId</th>\n",
       "      <th>movieId</th>\n",
       "      <th>rating</th>\n",
       "      <th>timestamp</th>\n",
       "      <th>title</th>\n",
       "      <th>genres</th>\n",
       "    </tr>\n",
       "  </thead>\n",
       "  <tbody>\n",
       "    <tr>\n",
       "      <th>0</th>\n",
       "      <td>1</td>\n",
       "      <td>296</td>\n",
       "      <td>5.0</td>\n",
       "      <td>1147880044</td>\n",
       "      <td>Pulp Fiction (1994)</td>\n",
       "      <td>Comedy|Crime|Drama|Thriller</td>\n",
       "    </tr>\n",
       "    <tr>\n",
       "      <th>1</th>\n",
       "      <td>3</td>\n",
       "      <td>296</td>\n",
       "      <td>5.0</td>\n",
       "      <td>1439474476</td>\n",
       "      <td>Pulp Fiction (1994)</td>\n",
       "      <td>Comedy|Crime|Drama|Thriller</td>\n",
       "    </tr>\n",
       "    <tr>\n",
       "      <th>2</th>\n",
       "      <td>4</td>\n",
       "      <td>296</td>\n",
       "      <td>4.0</td>\n",
       "      <td>1573938898</td>\n",
       "      <td>Pulp Fiction (1994)</td>\n",
       "      <td>Comedy|Crime|Drama|Thriller</td>\n",
       "    </tr>\n",
       "    <tr>\n",
       "      <th>3</th>\n",
       "      <td>5</td>\n",
       "      <td>296</td>\n",
       "      <td>4.0</td>\n",
       "      <td>830786155</td>\n",
       "      <td>Pulp Fiction (1994)</td>\n",
       "      <td>Comedy|Crime|Drama|Thriller</td>\n",
       "    </tr>\n",
       "    <tr>\n",
       "      <th>4</th>\n",
       "      <td>7</td>\n",
       "      <td>296</td>\n",
       "      <td>4.0</td>\n",
       "      <td>835444730</td>\n",
       "      <td>Pulp Fiction (1994)</td>\n",
       "      <td>Comedy|Crime|Drama|Thriller</td>\n",
       "    </tr>\n",
       "    <tr>\n",
       "      <th>...</th>\n",
       "      <td>...</td>\n",
       "      <td>...</td>\n",
       "      <td>...</td>\n",
       "      <td>...</td>\n",
       "      <td>...</td>\n",
       "      <td>...</td>\n",
       "    </tr>\n",
       "    <tr>\n",
       "      <th>1048571</th>\n",
       "      <td>7036</td>\n",
       "      <td>150858</td>\n",
       "      <td>2.5</td>\n",
       "      <td>1471038060</td>\n",
       "      <td>Cougar Hunting (2011)</td>\n",
       "      <td>Comedy|Romance</td>\n",
       "    </tr>\n",
       "    <tr>\n",
       "      <th>1048572</th>\n",
       "      <td>7036</td>\n",
       "      <td>166480</td>\n",
       "      <td>3.0</td>\n",
       "      <td>1481035733</td>\n",
       "      <td>Eliminators (2016)</td>\n",
       "      <td>Action|Thriller</td>\n",
       "    </tr>\n",
       "    <tr>\n",
       "      <th>1048573</th>\n",
       "      <td>7036</td>\n",
       "      <td>188931</td>\n",
       "      <td>3.5</td>\n",
       "      <td>1565119103</td>\n",
       "      <td>Birdsong (2012)</td>\n",
       "      <td>Drama|War</td>\n",
       "    </tr>\n",
       "    <tr>\n",
       "      <th>1048574</th>\n",
       "      <td>7036</td>\n",
       "      <td>203799</td>\n",
       "      <td>1.0</td>\n",
       "      <td>1562442903</td>\n",
       "      <td>Cold Blood (2019)</td>\n",
       "      <td>Action|Thriller</td>\n",
       "    </tr>\n",
       "    <tr>\n",
       "      <th>1048575</th>\n",
       "      <td>7036</td>\n",
       "      <td>207023</td>\n",
       "      <td>2.5</td>\n",
       "      <td>1572125693</td>\n",
       "      <td>10 Minutes Gone (2019)</td>\n",
       "      <td>Action|Crime|Mystery|Thriller</td>\n",
       "    </tr>\n",
       "  </tbody>\n",
       "</table>\n",
       "<p>1048576 rows × 6 columns</p>\n",
       "</div>"
      ],
      "text/plain": [
       "         userId  movieId  rating   timestamp                   title  \\\n",
       "0             1      296     5.0  1147880044     Pulp Fiction (1994)   \n",
       "1             3      296     5.0  1439474476     Pulp Fiction (1994)   \n",
       "2             4      296     4.0  1573938898     Pulp Fiction (1994)   \n",
       "3             5      296     4.0   830786155     Pulp Fiction (1994)   \n",
       "4             7      296     4.0   835444730     Pulp Fiction (1994)   \n",
       "...         ...      ...     ...         ...                     ...   \n",
       "1048571    7036   150858     2.5  1471038060   Cougar Hunting (2011)   \n",
       "1048572    7036   166480     3.0  1481035733      Eliminators (2016)   \n",
       "1048573    7036   188931     3.5  1565119103         Birdsong (2012)   \n",
       "1048574    7036   203799     1.0  1562442903       Cold Blood (2019)   \n",
       "1048575    7036   207023     2.5  1572125693  10 Minutes Gone (2019)   \n",
       "\n",
       "                                genres  \n",
       "0          Comedy|Crime|Drama|Thriller  \n",
       "1          Comedy|Crime|Drama|Thriller  \n",
       "2          Comedy|Crime|Drama|Thriller  \n",
       "3          Comedy|Crime|Drama|Thriller  \n",
       "4          Comedy|Crime|Drama|Thriller  \n",
       "...                                ...  \n",
       "1048571                 Comedy|Romance  \n",
       "1048572                Action|Thriller  \n",
       "1048573                      Drama|War  \n",
       "1048574                Action|Thriller  \n",
       "1048575  Action|Crime|Mystery|Thriller  \n",
       "\n",
       "[1048576 rows x 6 columns]"
      ]
     },
     "execution_count": 17,
     "metadata": {},
     "output_type": "execute_result"
    }
   ],
   "source": [
    "dfMerged"
   ]
  },
  {
   "cell_type": "code",
   "execution_count": 18,
   "id": "ac8be5ab8a21ba67",
   "metadata": {
    "ExecuteTime": {
     "end_time": "2023-11-17T21:20:50.330508300Z",
     "start_time": "2023-11-17T21:20:50.321435Z"
    },
    "collapsed": false
   },
   "outputs": [],
   "source": [
    "# Label encoding of IDs\n",
    "userEncoder = LabelEncoder()\n",
    "movieEncoder = LabelEncoder()"
   ]
  },
  {
   "cell_type": "code",
   "execution_count": 19,
   "id": "630b3820af0ddf8e",
   "metadata": {
    "ExecuteTime": {
     "end_time": "2023-11-17T21:20:50.466563100Z",
     "start_time": "2023-11-17T21:20:50.332508800Z"
    },
    "collapsed": false
   },
   "outputs": [
    {
     "data": {
      "text/html": [
       "<div>\n",
       "<style scoped>\n",
       "    .dataframe tbody tr th:only-of-type {\n",
       "        vertical-align: middle;\n",
       "    }\n",
       "\n",
       "    .dataframe tbody tr th {\n",
       "        vertical-align: top;\n",
       "    }\n",
       "\n",
       "    .dataframe thead th {\n",
       "        text-align: right;\n",
       "    }\n",
       "</style>\n",
       "<table border=\"1\" class=\"dataframe\">\n",
       "  <thead>\n",
       "    <tr style=\"text-align: right;\">\n",
       "      <th></th>\n",
       "      <th>userId</th>\n",
       "      <th>movieId</th>\n",
       "      <th>rating</th>\n",
       "      <th>timestamp</th>\n",
       "      <th>title</th>\n",
       "      <th>genres</th>\n",
       "    </tr>\n",
       "  </thead>\n",
       "  <tbody>\n",
       "    <tr>\n",
       "      <th>0</th>\n",
       "      <td>1</td>\n",
       "      <td>296</td>\n",
       "      <td>5.0</td>\n",
       "      <td>1147880044</td>\n",
       "      <td>Pulp Fiction (1994)</td>\n",
       "      <td>Comedy|Crime|Drama|Thriller</td>\n",
       "    </tr>\n",
       "    <tr>\n",
       "      <th>1</th>\n",
       "      <td>3</td>\n",
       "      <td>296</td>\n",
       "      <td>5.0</td>\n",
       "      <td>1439474476</td>\n",
       "      <td>Pulp Fiction (1994)</td>\n",
       "      <td>Comedy|Crime|Drama|Thriller</td>\n",
       "    </tr>\n",
       "    <tr>\n",
       "      <th>2</th>\n",
       "      <td>4</td>\n",
       "      <td>296</td>\n",
       "      <td>4.0</td>\n",
       "      <td>1573938898</td>\n",
       "      <td>Pulp Fiction (1994)</td>\n",
       "      <td>Comedy|Crime|Drama|Thriller</td>\n",
       "    </tr>\n",
       "    <tr>\n",
       "      <th>3</th>\n",
       "      <td>5</td>\n",
       "      <td>296</td>\n",
       "      <td>4.0</td>\n",
       "      <td>830786155</td>\n",
       "      <td>Pulp Fiction (1994)</td>\n",
       "      <td>Comedy|Crime|Drama|Thriller</td>\n",
       "    </tr>\n",
       "    <tr>\n",
       "      <th>4</th>\n",
       "      <td>7</td>\n",
       "      <td>296</td>\n",
       "      <td>4.0</td>\n",
       "      <td>835444730</td>\n",
       "      <td>Pulp Fiction (1994)</td>\n",
       "      <td>Comedy|Crime|Drama|Thriller</td>\n",
       "    </tr>\n",
       "  </tbody>\n",
       "</table>\n",
       "</div>"
      ],
      "text/plain": [
       "   userId  movieId  rating   timestamp                title  \\\n",
       "0       1      296     5.0  1147880044  Pulp Fiction (1994)   \n",
       "1       3      296     5.0  1439474476  Pulp Fiction (1994)   \n",
       "2       4      296     4.0  1573938898  Pulp Fiction (1994)   \n",
       "3       5      296     4.0   830786155  Pulp Fiction (1994)   \n",
       "4       7      296     4.0   835444730  Pulp Fiction (1994)   \n",
       "\n",
       "                        genres  \n",
       "0  Comedy|Crime|Drama|Thriller  \n",
       "1  Comedy|Crime|Drama|Thriller  \n",
       "2  Comedy|Crime|Drama|Thriller  \n",
       "3  Comedy|Crime|Drama|Thriller  \n",
       "4  Comedy|Crime|Drama|Thriller  "
      ]
     },
     "execution_count": 19,
     "metadata": {},
     "output_type": "execute_result"
    }
   ],
   "source": [
    "dfMerged.head()"
   ]
  },
  {
   "cell_type": "code",
   "execution_count": 20,
   "id": "54139600591bbf4e",
   "metadata": {
    "ExecuteTime": {
     "end_time": "2023-11-17T21:20:50.553095100Z",
     "start_time": "2023-11-17T21:20:50.363194100Z"
    },
    "collapsed": false
   },
   "outputs": [],
   "source": [
    "dfMerged['userEncoded'] = userEncoder.fit_transform(dfMerged['userId'])\n",
    "dfMerged['movieEncoded'] = movieEncoder.fit_transform(dfMerged['movieId'])"
   ]
  },
  {
   "cell_type": "code",
   "execution_count": 21,
   "id": "ae142b238a84ddda",
   "metadata": {
    "ExecuteTime": {
     "end_time": "2023-11-17T21:20:50.555095600Z",
     "start_time": "2023-11-17T21:20:50.490242600Z"
    },
    "collapsed": false
   },
   "outputs": [
    {
     "data": {
      "text/html": [
       "<div>\n",
       "<style scoped>\n",
       "    .dataframe tbody tr th:only-of-type {\n",
       "        vertical-align: middle;\n",
       "    }\n",
       "\n",
       "    .dataframe tbody tr th {\n",
       "        vertical-align: top;\n",
       "    }\n",
       "\n",
       "    .dataframe thead th {\n",
       "        text-align: right;\n",
       "    }\n",
       "</style>\n",
       "<table border=\"1\" class=\"dataframe\">\n",
       "  <thead>\n",
       "    <tr style=\"text-align: right;\">\n",
       "      <th></th>\n",
       "      <th>userId</th>\n",
       "      <th>movieId</th>\n",
       "      <th>rating</th>\n",
       "      <th>timestamp</th>\n",
       "      <th>title</th>\n",
       "      <th>genres</th>\n",
       "      <th>userEncoded</th>\n",
       "      <th>movieEncoded</th>\n",
       "    </tr>\n",
       "  </thead>\n",
       "  <tbody>\n",
       "    <tr>\n",
       "      <th>0</th>\n",
       "      <td>1</td>\n",
       "      <td>296</td>\n",
       "      <td>5.0</td>\n",
       "      <td>1147880044</td>\n",
       "      <td>Pulp Fiction (1994)</td>\n",
       "      <td>Comedy|Crime|Drama|Thriller</td>\n",
       "      <td>0</td>\n",
       "      <td>289</td>\n",
       "    </tr>\n",
       "    <tr>\n",
       "      <th>1</th>\n",
       "      <td>3</td>\n",
       "      <td>296</td>\n",
       "      <td>5.0</td>\n",
       "      <td>1439474476</td>\n",
       "      <td>Pulp Fiction (1994)</td>\n",
       "      <td>Comedy|Crime|Drama|Thriller</td>\n",
       "      <td>2</td>\n",
       "      <td>289</td>\n",
       "    </tr>\n",
       "    <tr>\n",
       "      <th>2</th>\n",
       "      <td>4</td>\n",
       "      <td>296</td>\n",
       "      <td>4.0</td>\n",
       "      <td>1573938898</td>\n",
       "      <td>Pulp Fiction (1994)</td>\n",
       "      <td>Comedy|Crime|Drama|Thriller</td>\n",
       "      <td>3</td>\n",
       "      <td>289</td>\n",
       "    </tr>\n",
       "    <tr>\n",
       "      <th>3</th>\n",
       "      <td>5</td>\n",
       "      <td>296</td>\n",
       "      <td>4.0</td>\n",
       "      <td>830786155</td>\n",
       "      <td>Pulp Fiction (1994)</td>\n",
       "      <td>Comedy|Crime|Drama|Thriller</td>\n",
       "      <td>4</td>\n",
       "      <td>289</td>\n",
       "    </tr>\n",
       "    <tr>\n",
       "      <th>4</th>\n",
       "      <td>7</td>\n",
       "      <td>296</td>\n",
       "      <td>4.0</td>\n",
       "      <td>835444730</td>\n",
       "      <td>Pulp Fiction (1994)</td>\n",
       "      <td>Comedy|Crime|Drama|Thriller</td>\n",
       "      <td>6</td>\n",
       "      <td>289</td>\n",
       "    </tr>\n",
       "    <tr>\n",
       "      <th>...</th>\n",
       "      <td>...</td>\n",
       "      <td>...</td>\n",
       "      <td>...</td>\n",
       "      <td>...</td>\n",
       "      <td>...</td>\n",
       "      <td>...</td>\n",
       "      <td>...</td>\n",
       "      <td>...</td>\n",
       "    </tr>\n",
       "    <tr>\n",
       "      <th>1048571</th>\n",
       "      <td>7036</td>\n",
       "      <td>150858</td>\n",
       "      <td>2.5</td>\n",
       "      <td>1471038060</td>\n",
       "      <td>Cougar Hunting (2011)</td>\n",
       "      <td>Comedy|Romance</td>\n",
       "      <td>7035</td>\n",
       "      <td>18306</td>\n",
       "    </tr>\n",
       "    <tr>\n",
       "      <th>1048572</th>\n",
       "      <td>7036</td>\n",
       "      <td>166480</td>\n",
       "      <td>3.0</td>\n",
       "      <td>1481035733</td>\n",
       "      <td>Eliminators (2016)</td>\n",
       "      <td>Action|Thriller</td>\n",
       "      <td>7035</td>\n",
       "      <td>19420</td>\n",
       "    </tr>\n",
       "    <tr>\n",
       "      <th>1048573</th>\n",
       "      <td>7036</td>\n",
       "      <td>188931</td>\n",
       "      <td>3.5</td>\n",
       "      <td>1565119103</td>\n",
       "      <td>Birdsong (2012)</td>\n",
       "      <td>Drama|War</td>\n",
       "      <td>7035</td>\n",
       "      <td>21364</td>\n",
       "    </tr>\n",
       "    <tr>\n",
       "      <th>1048574</th>\n",
       "      <td>7036</td>\n",
       "      <td>203799</td>\n",
       "      <td>1.0</td>\n",
       "      <td>1562442903</td>\n",
       "      <td>Cold Blood (2019)</td>\n",
       "      <td>Action|Thriller</td>\n",
       "      <td>7035</td>\n",
       "      <td>22120</td>\n",
       "    </tr>\n",
       "    <tr>\n",
       "      <th>1048575</th>\n",
       "      <td>7036</td>\n",
       "      <td>207023</td>\n",
       "      <td>2.5</td>\n",
       "      <td>1572125693</td>\n",
       "      <td>10 Minutes Gone (2019)</td>\n",
       "      <td>Action|Crime|Mystery|Thriller</td>\n",
       "      <td>7035</td>\n",
       "      <td>22222</td>\n",
       "    </tr>\n",
       "  </tbody>\n",
       "</table>\n",
       "<p>1048576 rows × 8 columns</p>\n",
       "</div>"
      ],
      "text/plain": [
       "         userId  movieId  rating   timestamp                   title  \\\n",
       "0             1      296     5.0  1147880044     Pulp Fiction (1994)   \n",
       "1             3      296     5.0  1439474476     Pulp Fiction (1994)   \n",
       "2             4      296     4.0  1573938898     Pulp Fiction (1994)   \n",
       "3             5      296     4.0   830786155     Pulp Fiction (1994)   \n",
       "4             7      296     4.0   835444730     Pulp Fiction (1994)   \n",
       "...         ...      ...     ...         ...                     ...   \n",
       "1048571    7036   150858     2.5  1471038060   Cougar Hunting (2011)   \n",
       "1048572    7036   166480     3.0  1481035733      Eliminators (2016)   \n",
       "1048573    7036   188931     3.5  1565119103         Birdsong (2012)   \n",
       "1048574    7036   203799     1.0  1562442903       Cold Blood (2019)   \n",
       "1048575    7036   207023     2.5  1572125693  10 Minutes Gone (2019)   \n",
       "\n",
       "                                genres  userEncoded  movieEncoded  \n",
       "0          Comedy|Crime|Drama|Thriller            0           289  \n",
       "1          Comedy|Crime|Drama|Thriller            2           289  \n",
       "2          Comedy|Crime|Drama|Thriller            3           289  \n",
       "3          Comedy|Crime|Drama|Thriller            4           289  \n",
       "4          Comedy|Crime|Drama|Thriller            6           289  \n",
       "...                                ...          ...           ...  \n",
       "1048571                 Comedy|Romance         7035         18306  \n",
       "1048572                Action|Thriller         7035         19420  \n",
       "1048573                      Drama|War         7035         21364  \n",
       "1048574                Action|Thriller         7035         22120  \n",
       "1048575  Action|Crime|Mystery|Thriller         7035         22222  \n",
       "\n",
       "[1048576 rows x 8 columns]"
      ]
     },
     "execution_count": 21,
     "metadata": {},
     "output_type": "execute_result"
    }
   ],
   "source": [
    "dfMerged"
   ]
  },
  {
   "cell_type": "code",
   "execution_count": 22,
   "id": "2547059791fad839",
   "metadata": {
    "ExecuteTime": {
     "end_time": "2023-11-17T21:20:50.875203300Z",
     "start_time": "2023-11-17T21:20:50.520401200Z"
    },
    "collapsed": false
   },
   "outputs": [],
   "source": [
    "# Splitting for training and testing, random state = 10, for portable results\n",
    "train_data, test_data = train_test_split(dfMerged, test_size=0.3) "
   ]
  },
  {
   "cell_type": "code",
   "execution_count": 23,
   "id": "d8050846b75d0726",
   "metadata": {
    "ExecuteTime": {
     "end_time": "2023-11-17T21:20:51.048020200Z",
     "start_time": "2023-11-17T21:20:50.810314800Z"
    },
    "collapsed": false
   },
   "outputs": [],
   "source": [
    "# Defining the Neural Network\n",
    "def recommendationModel(Vu, Vm, embeddSize=50):\n",
    "    # User\n",
    "    userInput = Input(shape=(1,), name=\"userInput\") # Taking the user Input\n",
    "    userEmbed = Embedding(input_dim=Vu, output_dim=embeddSize, input_length=1)(userInput) # User data embedding based on embed size - Hidden layer\n",
    "    userEmbed = Flatten()(userEmbed) # Flatten the userEmbed\n",
    "    \n",
    "    # Movie (similar)\n",
    "    movieInput = Input(shape=(1,), name=\"movieInput\") # Taking the movie Input\n",
    "    movieEmbed = Embedding(input_dim=Vm, output_dim=embeddSize, input_length=1)(movieInput) # movie data embedding based on embed size - Hidden layer\n",
    "    movieEmbed = Flatten()(movieEmbed) # Flatten the movieEmbed\n",
    "    \n",
    "    # Concatenate the embeddings\n",
    "    concat = concatenate([userEmbed, movieEmbed])\n",
    "    \n",
    "    # Fully connected Dense layers\n",
    "    D1 = Dense(128, activation='relu')(concat) # This signifies previous layer\n",
    "    D2 = Dense(64, activation='relu')(D1)\n",
    "    D3 = Dense(32, activation='relu')(D2)\n",
    "    D4 = Dense(16, activation='relu')(D3)\n",
    "    \n",
    "    # Output layer for 0-5 rating\n",
    "    output = Dense(1, activation='linear')(D4)\n",
    "    \n",
    "    # Model definition\n",
    "    model = Model([userInput, movieInput], output)\n",
    "    model.compile(optimizer=Adam(), loss='mean_squared_error')\n",
    "    \n",
    "    return model\n"
   ]
  },
  {
   "cell_type": "code",
   "execution_count": 24,
   "id": "8bb43a0072a1645d",
   "metadata": {
    "ExecuteTime": {
     "end_time": "2023-11-17T21:20:51.099473100Z",
     "start_time": "2023-11-17T21:20:50.832399600Z"
    },
    "collapsed": false
   },
   "outputs": [],
   "source": [
    "# Acquire the unique users and movies\n",
    "Vu = dfMerged['userEncoded'].nunique()\n",
    "Vm = dfMerged['movieEncoded'].nunique()"
   ]
  },
  {
   "cell_type": "code",
   "execution_count": 25,
   "id": "4b565f4759b879d9",
   "metadata": {
    "ExecuteTime": {
     "end_time": "2023-11-17T21:20:51.430261300Z",
     "start_time": "2023-11-17T21:20:51.010366300Z"
    },
    "collapsed": false
   },
   "outputs": [
    {
     "data": {
      "text/plain": [
       "<bound method Model.summary of <keras.src.engine.functional.Functional object at 0x00000191B871B070>>"
      ]
     },
     "execution_count": 25,
     "metadata": {},
     "output_type": "execute_result"
    }
   ],
   "source": [
    "# Create the model\n",
    "model = recommendationModel(Vu, Vm)\n",
    "model.summary"
   ]
  },
  {
   "cell_type": "code",
   "execution_count": 30,
   "id": "fbfee934fb8cbbe2",
   "metadata": {
    "ExecuteTime": {
     "end_time": "2023-11-17T21:34:38.206371400Z",
     "start_time": "2023-11-17T21:20:51.433258300Z"
    },
    "collapsed": false
   },
   "outputs": [
    {
     "name": "stdout",
     "output_type": "stream",
     "text": [
      "Epoch 1/10\n",
      "11469/11469 [==============================] - 221s 19ms/step - loss: 0.6511 - val_loss: 0.7347\n",
      "Epoch 2/10\n",
      "    4/11469 [..............................] - ETA: 3:26 - loss: 0.6760"
     ]
    },
    {
     "name": "stderr",
     "output_type": "stream",
     "text": [
      "c:\\Users\\sriha\\AppData\\Local\\Programs\\Python\\Python310\\lib\\site-packages\\keras\\src\\engine\\training.py:3079: UserWarning: You are saving your model as an HDF5 file via `model.save()`. This file format is considered legacy. We recommend using instead the native Keras format, e.g. `model.save('my_model.keras')`.\n",
      "  saving_api.save_model(\n"
     ]
    },
    {
     "name": "stdout",
     "output_type": "stream",
     "text": [
      "11469/11469 [==============================] - 222s 19ms/step - loss: 0.5766 - val_loss: 0.7177\n",
      "Epoch 3/10\n",
      "11469/11469 [==============================] - 223s 19ms/step - loss: 0.5152 - val_loss: 0.7264\n",
      "Epoch 4/10\n",
      "11469/11469 [==============================] - 221s 19ms/step - loss: 0.4670 - val_loss: 0.7426\n",
      "Epoch 5/10\n",
      "11469/11469 [==============================] - 221s 19ms/step - loss: 0.4282 - val_loss: 0.7611\n",
      "Epoch 6/10\n",
      "11469/11469 [==============================] - 220s 19ms/step - loss: 0.3969 - val_loss: 0.8067\n",
      "Epoch 7/10\n",
      "11469/11469 [==============================] - 220s 19ms/step - loss: 0.3702 - val_loss: 0.7889\n",
      "Epoch 8/10\n",
      "11469/11469 [==============================] - 223s 19ms/step - loss: 0.3482 - val_loss: 0.8229\n",
      "Epoch 9/10\n",
      "11469/11469 [==============================] - 221s 19ms/step - loss: 0.3291 - val_loss: 0.8248\n",
      "Epoch 10/10\n",
      "11469/11469 [==============================] - 229s 20ms/step - loss: 0.3128 - val_loss: 0.8375\n"
     ]
    },
    {
     "data": {
      "text/plain": [
       "<keras.src.callbacks.History at 0x191db4bf7c0>"
      ]
     },
     "execution_count": 30,
     "metadata": {},
     "output_type": "execute_result"
    }
   ],
   "source": [
    "from keras.callbacks import ModelCheckpoint\n",
    "\n",
    "# Create a ModelCheckpoint callback\n",
    "checkpoint_path = \"best_model.h5\"\n",
    "checkpoint_callback = ModelCheckpoint(checkpoint_path, monitor='val_loss', save_best_only=True, mode='min', verbose=0)\n",
    "\n",
    "\n",
    "model.fit([train_data['userEncoded'], train_data['movieEncoded']], train_data['rating'],\n",
    "          validation_data=([test_data['userEncoded'], test_data['movieEncoded']], test_data['rating']), epochs=10, batch_size=64, verbose=1,callbacks=checkpoint_callback)\n",
    "\n"
   ]
  },
  {
   "cell_type": "markdown",
   "id": "b81ed3eee2f7a054",
   "metadata": {
    "collapsed": false
   },
   "source": [
    "## Getting a sample prediction"
   ]
  },
  {
   "cell_type": "code",
   "execution_count": 33,
   "id": "f879d32fa6defcca",
   "metadata": {
    "ExecuteTime": {
     "end_time": "2023-11-17T21:36:32.306371Z",
     "start_time": "2023-11-17T21:36:32.164388600Z"
    },
    "collapsed": false
   },
   "outputs": [
    {
     "name": "stdout",
     "output_type": "stream",
     "text": [
      "Predicted rating for user 1 and movie \"GoldenEye (1995)\":  3.529 ⭐ ⭐ ⭐ "
     ]
    }
   ],
   "source": [
    "# Example: Get predictions for user with user_id = 1 and movie_id = 100\n",
    "from keras.models import load_model\n",
    "user_id = 1\n",
    "movie_id = 10\n",
    "\n",
    "# Encode user and movie IDs\n",
    "user_encoded = userEncoder.transform([user_id])[0]\n",
    "movie_encoded = movieEncoder.transform([movie_id])[0]\n",
    "model = load_model('best_model.h5')\n",
    "# Make predictions using the trained model\n",
    "prediction = model.predict([np.array([user_encoded]), np.array([movie_encoded])], verbose=0)[0][0]\n",
    "movieTitle = df_movies.loc[df_movies['movieId'] == movie_id,'title'].values[0]\n",
    "print(f\"Predicted rating for user {user_id} and movie \\\"{movieTitle}\\\": {prediction: 0.3f}\", end=\" \")\n",
    "for i in range(int(prediction)):\n",
    "    print(\"⭐\", end=\" \")"
   ]
  },
  {
   "cell_type": "code",
   "execution_count": null,
   "metadata": {},
   "outputs": [],
   "source": []
  }
 ],
 "metadata": {
  "kernelspec": {
   "display_name": "Python 3 (ipykernel)",
   "language": "python",
   "name": "python3"
  },
  "language_info": {
   "codemirror_mode": {
    "name": "ipython",
    "version": 3
   },
   "file_extension": ".py",
   "mimetype": "text/x-python",
   "name": "python",
   "nbconvert_exporter": "python",
   "pygments_lexer": "ipython3",
   "version": "3.10.11"
  }
 },
 "nbformat": 4,
 "nbformat_minor": 5
}

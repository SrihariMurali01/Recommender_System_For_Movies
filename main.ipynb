{
 "cells": [
  {
   "cell_type": "markdown",
   "id": "aa960f1c1335dccd",
   "metadata": {
    "collapsed": false
   },
   "source": [
    "### Recommender System using Collaborative Filtering Model using Neural Networks"
   ]
  },
  {
   "cell_type": "code",
   "execution_count": 215,
   "id": "e68f46c9b11eefec",
   "metadata": {
    "ExecuteTime": {
     "end_time": "2023-11-17T21:20:37.851126300Z",
     "start_time": "2023-11-17T21:20:37.608267100Z"
    },
    "collapsed": false
   },
   "outputs": [],
   "source": [
    "import pandas as pd\n",
    "import numpy as np\n",
    "\n",
    "from sklearn.model_selection import train_test_split\n",
    "from sklearn.preprocessing import LabelEncoder #Label Encoding for User and Movie Ids\n",
    "\n",
    "from keras.models import Model\n",
    "from keras.layers import Input, Embedding, Flatten, concatenate, Dense\n",
    "from keras.optimizers import Adam # Adam optimizer"
   ]
  },
  {
   "cell_type": "code",
   "execution_count": 216,
   "id": "cff2d60bc845442b",
   "metadata": {
    "ExecuteTime": {
     "end_time": "2023-11-17T21:20:50.021942500Z",
     "start_time": "2023-11-17T21:20:37.631364800Z"
    },
    "collapsed": false
   },
   "outputs": [],
   "source": [
    "df_movies = pd.read_csv('movies.csv').head(500000)\n",
    "df_ratings = pd.read_csv('ratings.csv').head(500000)"
   ]
  },
  {
   "cell_type": "code",
   "execution_count": 217,
   "id": "3614fa7a5b16877e",
   "metadata": {
    "ExecuteTime": {
     "end_time": "2023-11-17T21:20:50.268157600Z",
     "start_time": "2023-11-17T21:20:50.023937500Z"
    },
    "collapsed": false
   },
   "outputs": [],
   "source": [
    "#Merging movies and their ratings given\n",
    "dfMerged = pd.merge(df_ratings, df_movies, on='movieId')"
   ]
  },
  {
   "cell_type": "code",
   "execution_count": 218,
   "id": "736b696a3eda6012",
   "metadata": {
    "ExecuteTime": {
     "end_time": "2023-11-17T21:20:50.330508300Z",
     "start_time": "2023-11-17T21:20:50.273156300Z"
    },
    "collapsed": false
   },
   "outputs": [
    {
     "data": {
      "text/html": [
       "<div>\n",
       "<style scoped>\n",
       "    .dataframe tbody tr th:only-of-type {\n",
       "        vertical-align: middle;\n",
       "    }\n",
       "\n",
       "    .dataframe tbody tr th {\n",
       "        vertical-align: top;\n",
       "    }\n",
       "\n",
       "    .dataframe thead th {\n",
       "        text-align: right;\n",
       "    }\n",
       "</style>\n",
       "<table border=\"1\" class=\"dataframe\">\n",
       "  <thead>\n",
       "    <tr style=\"text-align: right;\">\n",
       "      <th></th>\n",
       "      <th>userId</th>\n",
       "      <th>movieId</th>\n",
       "      <th>rating</th>\n",
       "      <th>timestamp</th>\n",
       "      <th>title</th>\n",
       "      <th>genres</th>\n",
       "    </tr>\n",
       "  </thead>\n",
       "  <tbody>\n",
       "    <tr>\n",
       "      <th>0</th>\n",
       "      <td>1</td>\n",
       "      <td>296</td>\n",
       "      <td>5.0</td>\n",
       "      <td>1147880044</td>\n",
       "      <td>Pulp Fiction (1994)</td>\n",
       "      <td>Comedy|Crime|Drama|Thriller</td>\n",
       "    </tr>\n",
       "    <tr>\n",
       "      <th>1</th>\n",
       "      <td>3</td>\n",
       "      <td>296</td>\n",
       "      <td>5.0</td>\n",
       "      <td>1439474476</td>\n",
       "      <td>Pulp Fiction (1994)</td>\n",
       "      <td>Comedy|Crime|Drama|Thriller</td>\n",
       "    </tr>\n",
       "    <tr>\n",
       "      <th>2</th>\n",
       "      <td>4</td>\n",
       "      <td>296</td>\n",
       "      <td>4.0</td>\n",
       "      <td>1573938898</td>\n",
       "      <td>Pulp Fiction (1994)</td>\n",
       "      <td>Comedy|Crime|Drama|Thriller</td>\n",
       "    </tr>\n",
       "    <tr>\n",
       "      <th>3</th>\n",
       "      <td>5</td>\n",
       "      <td>296</td>\n",
       "      <td>4.0</td>\n",
       "      <td>830786155</td>\n",
       "      <td>Pulp Fiction (1994)</td>\n",
       "      <td>Comedy|Crime|Drama|Thriller</td>\n",
       "    </tr>\n",
       "    <tr>\n",
       "      <th>4</th>\n",
       "      <td>7</td>\n",
       "      <td>296</td>\n",
       "      <td>4.0</td>\n",
       "      <td>835444730</td>\n",
       "      <td>Pulp Fiction (1994)</td>\n",
       "      <td>Comedy|Crime|Drama|Thriller</td>\n",
       "    </tr>\n",
       "    <tr>\n",
       "      <th>...</th>\n",
       "      <td>...</td>\n",
       "      <td>...</td>\n",
       "      <td>...</td>\n",
       "      <td>...</td>\n",
       "      <td>...</td>\n",
       "      <td>...</td>\n",
       "    </tr>\n",
       "    <tr>\n",
       "      <th>499995</th>\n",
       "      <td>3445</td>\n",
       "      <td>6084</td>\n",
       "      <td>3.0</td>\n",
       "      <td>1468322768</td>\n",
       "      <td>Honkytonk Man (1982)</td>\n",
       "      <td>Comedy|Drama</td>\n",
       "    </tr>\n",
       "    <tr>\n",
       "      <th>499996</th>\n",
       "      <td>3445</td>\n",
       "      <td>6403</td>\n",
       "      <td>3.5</td>\n",
       "      <td>1569359316</td>\n",
       "      <td>Swimmer, The (1968)</td>\n",
       "      <td>Drama</td>\n",
       "    </tr>\n",
       "    <tr>\n",
       "      <th>499997</th>\n",
       "      <td>3445</td>\n",
       "      <td>7272</td>\n",
       "      <td>3.0</td>\n",
       "      <td>1453068509</td>\n",
       "      <td>Super Fly (Superfly) (1972)</td>\n",
       "      <td>Action|Crime|Drama</td>\n",
       "    </tr>\n",
       "    <tr>\n",
       "      <th>499998</th>\n",
       "      <td>3445</td>\n",
       "      <td>7992</td>\n",
       "      <td>3.5</td>\n",
       "      <td>1455930501</td>\n",
       "      <td>Cockfighter (1974)</td>\n",
       "      <td>Drama</td>\n",
       "    </tr>\n",
       "    <tr>\n",
       "      <th>499999</th>\n",
       "      <td>3445</td>\n",
       "      <td>7995</td>\n",
       "      <td>3.0</td>\n",
       "      <td>1485084943</td>\n",
       "      <td>Wild Angels, The (1966)</td>\n",
       "      <td>Action|Drama</td>\n",
       "    </tr>\n",
       "  </tbody>\n",
       "</table>\n",
       "<p>500000 rows × 6 columns</p>\n",
       "</div>"
      ],
      "text/plain": [
       "        userId  movieId  rating   timestamp                        title  \\\n",
       "0            1      296     5.0  1147880044          Pulp Fiction (1994)   \n",
       "1            3      296     5.0  1439474476          Pulp Fiction (1994)   \n",
       "2            4      296     4.0  1573938898          Pulp Fiction (1994)   \n",
       "3            5      296     4.0   830786155          Pulp Fiction (1994)   \n",
       "4            7      296     4.0   835444730          Pulp Fiction (1994)   \n",
       "...        ...      ...     ...         ...                          ...   \n",
       "499995    3445     6084     3.0  1468322768         Honkytonk Man (1982)   \n",
       "499996    3445     6403     3.5  1569359316          Swimmer, The (1968)   \n",
       "499997    3445     7272     3.0  1453068509  Super Fly (Superfly) (1972)   \n",
       "499998    3445     7992     3.5  1455930501           Cockfighter (1974)   \n",
       "499999    3445     7995     3.0  1485084943      Wild Angels, The (1966)   \n",
       "\n",
       "                             genres  \n",
       "0       Comedy|Crime|Drama|Thriller  \n",
       "1       Comedy|Crime|Drama|Thriller  \n",
       "2       Comedy|Crime|Drama|Thriller  \n",
       "3       Comedy|Crime|Drama|Thriller  \n",
       "4       Comedy|Crime|Drama|Thriller  \n",
       "...                             ...  \n",
       "499995                 Comedy|Drama  \n",
       "499996                        Drama  \n",
       "499997           Action|Crime|Drama  \n",
       "499998                        Drama  \n",
       "499999                 Action|Drama  \n",
       "\n",
       "[500000 rows x 6 columns]"
      ]
     },
     "execution_count": 218,
     "metadata": {},
     "output_type": "execute_result"
    }
   ],
   "source": [
    "dfMerged"
   ]
  },
  {
   "cell_type": "code",
   "execution_count": 219,
   "id": "ac8be5ab8a21ba67",
   "metadata": {
    "ExecuteTime": {
     "end_time": "2023-11-17T21:20:50.330508300Z",
     "start_time": "2023-11-17T21:20:50.321435Z"
    },
    "collapsed": false
   },
   "outputs": [],
   "source": [
    "# Label encoding of IDs\n",
    "userEncoder = LabelEncoder()\n",
    "movieEncoder = LabelEncoder()"
   ]
  },
  {
   "cell_type": "code",
   "execution_count": 220,
   "id": "630b3820af0ddf8e",
   "metadata": {
    "ExecuteTime": {
     "end_time": "2023-11-17T21:20:50.466563100Z",
     "start_time": "2023-11-17T21:20:50.332508800Z"
    },
    "collapsed": false
   },
   "outputs": [
    {
     "data": {
      "text/html": [
       "<div>\n",
       "<style scoped>\n",
       "    .dataframe tbody tr th:only-of-type {\n",
       "        vertical-align: middle;\n",
       "    }\n",
       "\n",
       "    .dataframe tbody tr th {\n",
       "        vertical-align: top;\n",
       "    }\n",
       "\n",
       "    .dataframe thead th {\n",
       "        text-align: right;\n",
       "    }\n",
       "</style>\n",
       "<table border=\"1\" class=\"dataframe\">\n",
       "  <thead>\n",
       "    <tr style=\"text-align: right;\">\n",
       "      <th></th>\n",
       "      <th>userId</th>\n",
       "      <th>movieId</th>\n",
       "      <th>rating</th>\n",
       "      <th>timestamp</th>\n",
       "      <th>title</th>\n",
       "      <th>genres</th>\n",
       "    </tr>\n",
       "  </thead>\n",
       "  <tbody>\n",
       "    <tr>\n",
       "      <th>0</th>\n",
       "      <td>1</td>\n",
       "      <td>296</td>\n",
       "      <td>5.0</td>\n",
       "      <td>1147880044</td>\n",
       "      <td>Pulp Fiction (1994)</td>\n",
       "      <td>Comedy|Crime|Drama|Thriller</td>\n",
       "    </tr>\n",
       "    <tr>\n",
       "      <th>1</th>\n",
       "      <td>3</td>\n",
       "      <td>296</td>\n",
       "      <td>5.0</td>\n",
       "      <td>1439474476</td>\n",
       "      <td>Pulp Fiction (1994)</td>\n",
       "      <td>Comedy|Crime|Drama|Thriller</td>\n",
       "    </tr>\n",
       "    <tr>\n",
       "      <th>2</th>\n",
       "      <td>4</td>\n",
       "      <td>296</td>\n",
       "      <td>4.0</td>\n",
       "      <td>1573938898</td>\n",
       "      <td>Pulp Fiction (1994)</td>\n",
       "      <td>Comedy|Crime|Drama|Thriller</td>\n",
       "    </tr>\n",
       "    <tr>\n",
       "      <th>3</th>\n",
       "      <td>5</td>\n",
       "      <td>296</td>\n",
       "      <td>4.0</td>\n",
       "      <td>830786155</td>\n",
       "      <td>Pulp Fiction (1994)</td>\n",
       "      <td>Comedy|Crime|Drama|Thriller</td>\n",
       "    </tr>\n",
       "    <tr>\n",
       "      <th>4</th>\n",
       "      <td>7</td>\n",
       "      <td>296</td>\n",
       "      <td>4.0</td>\n",
       "      <td>835444730</td>\n",
       "      <td>Pulp Fiction (1994)</td>\n",
       "      <td>Comedy|Crime|Drama|Thriller</td>\n",
       "    </tr>\n",
       "  </tbody>\n",
       "</table>\n",
       "</div>"
      ],
      "text/plain": [
       "   userId  movieId  rating   timestamp                title  \\\n",
       "0       1      296     5.0  1147880044  Pulp Fiction (1994)   \n",
       "1       3      296     5.0  1439474476  Pulp Fiction (1994)   \n",
       "2       4      296     4.0  1573938898  Pulp Fiction (1994)   \n",
       "3       5      296     4.0   830786155  Pulp Fiction (1994)   \n",
       "4       7      296     4.0   835444730  Pulp Fiction (1994)   \n",
       "\n",
       "                        genres  \n",
       "0  Comedy|Crime|Drama|Thriller  \n",
       "1  Comedy|Crime|Drama|Thriller  \n",
       "2  Comedy|Crime|Drama|Thriller  \n",
       "3  Comedy|Crime|Drama|Thriller  \n",
       "4  Comedy|Crime|Drama|Thriller  "
      ]
     },
     "execution_count": 220,
     "metadata": {},
     "output_type": "execute_result"
    }
   ],
   "source": [
    "dfMerged.head()"
   ]
  },
  {
   "cell_type": "code",
   "execution_count": 221,
   "id": "54139600591bbf4e",
   "metadata": {
    "ExecuteTime": {
     "end_time": "2023-11-17T21:20:50.553095100Z",
     "start_time": "2023-11-17T21:20:50.363194100Z"
    },
    "collapsed": false
   },
   "outputs": [],
   "source": [
    "dfMerged['userEncoded'] = userEncoder.fit_transform(dfMerged['userId'])\n",
    "dfMerged['movieEncoded'] = movieEncoder.fit_transform(dfMerged['movieId'])"
   ]
  },
  {
   "cell_type": "code",
   "execution_count": 222,
   "id": "ae142b238a84ddda",
   "metadata": {
    "ExecuteTime": {
     "end_time": "2023-11-17T21:20:50.555095600Z",
     "start_time": "2023-11-17T21:20:50.490242600Z"
    },
    "collapsed": false
   },
   "outputs": [
    {
     "data": {
      "text/html": [
       "<div>\n",
       "<style scoped>\n",
       "    .dataframe tbody tr th:only-of-type {\n",
       "        vertical-align: middle;\n",
       "    }\n",
       "\n",
       "    .dataframe tbody tr th {\n",
       "        vertical-align: top;\n",
       "    }\n",
       "\n",
       "    .dataframe thead th {\n",
       "        text-align: right;\n",
       "    }\n",
       "</style>\n",
       "<table border=\"1\" class=\"dataframe\">\n",
       "  <thead>\n",
       "    <tr style=\"text-align: right;\">\n",
       "      <th></th>\n",
       "      <th>userId</th>\n",
       "      <th>movieId</th>\n",
       "      <th>rating</th>\n",
       "      <th>timestamp</th>\n",
       "      <th>title</th>\n",
       "      <th>genres</th>\n",
       "      <th>userEncoded</th>\n",
       "      <th>movieEncoded</th>\n",
       "    </tr>\n",
       "  </thead>\n",
       "  <tbody>\n",
       "    <tr>\n",
       "      <th>0</th>\n",
       "      <td>1</td>\n",
       "      <td>296</td>\n",
       "      <td>5.0</td>\n",
       "      <td>1147880044</td>\n",
       "      <td>Pulp Fiction (1994)</td>\n",
       "      <td>Comedy|Crime|Drama|Thriller</td>\n",
       "      <td>0</td>\n",
       "      <td>282</td>\n",
       "    </tr>\n",
       "    <tr>\n",
       "      <th>1</th>\n",
       "      <td>3</td>\n",
       "      <td>296</td>\n",
       "      <td>5.0</td>\n",
       "      <td>1439474476</td>\n",
       "      <td>Pulp Fiction (1994)</td>\n",
       "      <td>Comedy|Crime|Drama|Thriller</td>\n",
       "      <td>2</td>\n",
       "      <td>282</td>\n",
       "    </tr>\n",
       "    <tr>\n",
       "      <th>2</th>\n",
       "      <td>4</td>\n",
       "      <td>296</td>\n",
       "      <td>4.0</td>\n",
       "      <td>1573938898</td>\n",
       "      <td>Pulp Fiction (1994)</td>\n",
       "      <td>Comedy|Crime|Drama|Thriller</td>\n",
       "      <td>3</td>\n",
       "      <td>282</td>\n",
       "    </tr>\n",
       "    <tr>\n",
       "      <th>3</th>\n",
       "      <td>5</td>\n",
       "      <td>296</td>\n",
       "      <td>4.0</td>\n",
       "      <td>830786155</td>\n",
       "      <td>Pulp Fiction (1994)</td>\n",
       "      <td>Comedy|Crime|Drama|Thriller</td>\n",
       "      <td>4</td>\n",
       "      <td>282</td>\n",
       "    </tr>\n",
       "    <tr>\n",
       "      <th>4</th>\n",
       "      <td>7</td>\n",
       "      <td>296</td>\n",
       "      <td>4.0</td>\n",
       "      <td>835444730</td>\n",
       "      <td>Pulp Fiction (1994)</td>\n",
       "      <td>Comedy|Crime|Drama|Thriller</td>\n",
       "      <td>6</td>\n",
       "      <td>282</td>\n",
       "    </tr>\n",
       "    <tr>\n",
       "      <th>...</th>\n",
       "      <td>...</td>\n",
       "      <td>...</td>\n",
       "      <td>...</td>\n",
       "      <td>...</td>\n",
       "      <td>...</td>\n",
       "      <td>...</td>\n",
       "      <td>...</td>\n",
       "      <td>...</td>\n",
       "    </tr>\n",
       "    <tr>\n",
       "      <th>499995</th>\n",
       "      <td>3445</td>\n",
       "      <td>6084</td>\n",
       "      <td>3.0</td>\n",
       "      <td>1468322768</td>\n",
       "      <td>Honkytonk Man (1982)</td>\n",
       "      <td>Comedy|Drama</td>\n",
       "      <td>3444</td>\n",
       "      <td>5402</td>\n",
       "    </tr>\n",
       "    <tr>\n",
       "      <th>499996</th>\n",
       "      <td>3445</td>\n",
       "      <td>6403</td>\n",
       "      <td>3.5</td>\n",
       "      <td>1569359316</td>\n",
       "      <td>Swimmer, The (1968)</td>\n",
       "      <td>Drama</td>\n",
       "      <td>3444</td>\n",
       "      <td>5654</td>\n",
       "    </tr>\n",
       "    <tr>\n",
       "      <th>499997</th>\n",
       "      <td>3445</td>\n",
       "      <td>7272</td>\n",
       "      <td>3.0</td>\n",
       "      <td>1453068509</td>\n",
       "      <td>Super Fly (Superfly) (1972)</td>\n",
       "      <td>Action|Crime|Drama</td>\n",
       "      <td>3444</td>\n",
       "      <td>6371</td>\n",
       "    </tr>\n",
       "    <tr>\n",
       "      <th>499998</th>\n",
       "      <td>3445</td>\n",
       "      <td>7992</td>\n",
       "      <td>3.5</td>\n",
       "      <td>1455930501</td>\n",
       "      <td>Cockfighter (1974)</td>\n",
       "      <td>Drama</td>\n",
       "      <td>3444</td>\n",
       "      <td>6719</td>\n",
       "    </tr>\n",
       "    <tr>\n",
       "      <th>499999</th>\n",
       "      <td>3445</td>\n",
       "      <td>7995</td>\n",
       "      <td>3.0</td>\n",
       "      <td>1485084943</td>\n",
       "      <td>Wild Angels, The (1966)</td>\n",
       "      <td>Action|Drama</td>\n",
       "      <td>3444</td>\n",
       "      <td>6722</td>\n",
       "    </tr>\n",
       "  </tbody>\n",
       "</table>\n",
       "<p>500000 rows × 8 columns</p>\n",
       "</div>"
      ],
      "text/plain": [
       "        userId  movieId  rating   timestamp                        title  \\\n",
       "0            1      296     5.0  1147880044          Pulp Fiction (1994)   \n",
       "1            3      296     5.0  1439474476          Pulp Fiction (1994)   \n",
       "2            4      296     4.0  1573938898          Pulp Fiction (1994)   \n",
       "3            5      296     4.0   830786155          Pulp Fiction (1994)   \n",
       "4            7      296     4.0   835444730          Pulp Fiction (1994)   \n",
       "...        ...      ...     ...         ...                          ...   \n",
       "499995    3445     6084     3.0  1468322768         Honkytonk Man (1982)   \n",
       "499996    3445     6403     3.5  1569359316          Swimmer, The (1968)   \n",
       "499997    3445     7272     3.0  1453068509  Super Fly (Superfly) (1972)   \n",
       "499998    3445     7992     3.5  1455930501           Cockfighter (1974)   \n",
       "499999    3445     7995     3.0  1485084943      Wild Angels, The (1966)   \n",
       "\n",
       "                             genres  userEncoded  movieEncoded  \n",
       "0       Comedy|Crime|Drama|Thriller            0           282  \n",
       "1       Comedy|Crime|Drama|Thriller            2           282  \n",
       "2       Comedy|Crime|Drama|Thriller            3           282  \n",
       "3       Comedy|Crime|Drama|Thriller            4           282  \n",
       "4       Comedy|Crime|Drama|Thriller            6           282  \n",
       "...                             ...          ...           ...  \n",
       "499995                 Comedy|Drama         3444          5402  \n",
       "499996                        Drama         3444          5654  \n",
       "499997           Action|Crime|Drama         3444          6371  \n",
       "499998                        Drama         3444          6719  \n",
       "499999                 Action|Drama         3444          6722  \n",
       "\n",
       "[500000 rows x 8 columns]"
      ]
     },
     "execution_count": 222,
     "metadata": {},
     "output_type": "execute_result"
    }
   ],
   "source": [
    "dfMerged"
   ]
  },
  {
   "cell_type": "code",
   "execution_count": 223,
   "id": "2547059791fad839",
   "metadata": {
    "ExecuteTime": {
     "end_time": "2023-11-17T21:20:50.875203300Z",
     "start_time": "2023-11-17T21:20:50.520401200Z"
    },
    "collapsed": false
   },
   "outputs": [],
   "source": [
    "# Splitting for training and testing, random state = 10, for portable results\n",
    "train_data, test_data = train_test_split(dfMerged, test_size=0.3) "
   ]
  },
  {
   "cell_type": "code",
   "execution_count": 224,
   "id": "d8050846b75d0726",
   "metadata": {
    "ExecuteTime": {
     "end_time": "2023-11-17T21:20:51.048020200Z",
     "start_time": "2023-11-17T21:20:50.810314800Z"
    },
    "collapsed": false
   },
   "outputs": [],
   "source": [
    "# Defining the Neural Network\n",
    "def recommendationModel(Vu, Vm, embeddSize=50):\n",
    "    # User\n",
    "    userInput = Input(shape=(1,), name=\"userInput\") # Taking the user Input\n",
    "    userEmbed = Embedding(input_dim=Vu, output_dim=embeddSize, input_length=1)(userInput) # User data embedding based on embed size - Hidden layer\n",
    "    userEmbed = Flatten()(userEmbed) # Flatten the userEmbed\n",
    "    \n",
    "    # Movie (similar)\n",
    "    movieInput = Input(shape=(1,), name=\"movieInput\") # Taking the movie Input\n",
    "    movieEmbed = Embedding(input_dim=Vm, output_dim=embeddSize, input_length=1)(movieInput) # movie data embedding based on embed size - Hidden layer\n",
    "    movieEmbed = Flatten()(movieEmbed) # Flatten the movieEmbed\n",
    "    \n",
    "    # Concatenate the embeddings\n",
    "    concat = concatenate([userEmbed, movieEmbed])\n",
    "    \n",
    "    # Fully connected Dense layers\n",
    "    D1 = Dense(128, activation='relu')(concat) # This signifies previous layer\n",
    "    D2 = Dense(64, activation='relu')(D1)\n",
    "    D3 = Dense(32, activation='relu')(D2)\n",
    "    D4 = Dense(16, activation='relu')(D3)\n",
    "    \n",
    "    # Output layer for 0-5 rating\n",
    "    output = Dense(1, activation='linear')(D4)\n",
    "    \n",
    "    # Model definition\n",
    "    model = Model([userInput, movieInput], output)\n",
    "    model.compile(optimizer=Adam(), loss='mean_squared_error')\n",
    "    \n",
    "    return model\n"
   ]
  },
  {
   "cell_type": "code",
   "execution_count": 225,
   "id": "8bb43a0072a1645d",
   "metadata": {
    "ExecuteTime": {
     "end_time": "2023-11-17T21:20:51.099473100Z",
     "start_time": "2023-11-17T21:20:50.832399600Z"
    },
    "collapsed": false
   },
   "outputs": [],
   "source": [
    "# Acquire the unique users and movies\n",
    "Vu = dfMerged['userEncoded'].nunique()\n",
    "Vm = dfMerged['movieEncoded'].nunique()"
   ]
  },
  {
   "cell_type": "code",
   "execution_count": 226,
   "id": "4b565f4759b879d9",
   "metadata": {
    "ExecuteTime": {
     "end_time": "2023-11-17T21:20:51.430261300Z",
     "start_time": "2023-11-17T21:20:51.010366300Z"
    },
    "collapsed": false
   },
   "outputs": [
    {
     "data": {
      "text/plain": [
       "<bound method Model.summary of <keras.src.engine.functional.Functional object at 0x000001ACBE61BDC0>>"
      ]
     },
     "execution_count": 226,
     "metadata": {},
     "output_type": "execute_result"
    }
   ],
   "source": [
    "# Create the model\n",
    "model = recommendationModel(Vu, Vm)\n",
    "model.summary"
   ]
  },
  {
   "cell_type": "code",
   "execution_count": 227,
   "id": "fbfee934fb8cbbe2",
   "metadata": {
    "ExecuteTime": {
     "end_time": "2023-11-17T21:34:38.206371400Z",
     "start_time": "2023-11-17T21:20:51.433258300Z"
    },
    "collapsed": false
   },
   "outputs": [
    {
     "name": "stdout",
     "output_type": "stream",
     "text": [
      "Epoch 1/10\n",
      "5467/5469 [============================>.] - ETA: 0s - loss: 0.8779\n",
      "Epoch 1: val_loss improved from inf to 0.76957, saving model to best_model.h5\n",
      "5469/5469 [==============================] - 90s 16ms/step - loss: 0.8778 - val_loss: 0.7696\n",
      "Epoch 2/10\n",
      "   5/5469 [..............................] - ETA: 1:15 - loss: 0.6786"
     ]
    },
    {
     "name": "stderr",
     "output_type": "stream",
     "text": [
      "C:\\Users\\sriha\\AppData\\Local\\Programs\\Python\\Python310\\lib\\site-packages\\keras\\src\\engine\\training.py:3079: UserWarning: You are saving your model as an HDF5 file via `model.save()`. This file format is considered legacy. We recommend using instead the native Keras format, e.g. `model.save('my_model.keras')`.\n",
      "  saving_api.save_model(\n"
     ]
    },
    {
     "name": "stdout",
     "output_type": "stream",
     "text": [
      "5469/5469 [==============================] - ETA: 0s - loss: 0.7178\n",
      "Epoch 2: val_loss improved from 0.76957 to 0.72984, saving model to best_model.h5\n",
      "5469/5469 [==============================] - 83s 15ms/step - loss: 0.7178 - val_loss: 0.7298\n",
      "Epoch 3/10\n",
      "5466/5469 [============================>.] - ETA: 0s - loss: 0.6652\n",
      "Epoch 3: val_loss did not improve from 0.72984\n",
      "5469/5469 [==============================] - 81s 15ms/step - loss: 0.6652 - val_loss: 0.7331\n",
      "Epoch 4/10\n",
      "5469/5469 [==============================] - ETA: 0s - loss: 0.6066\n",
      "Epoch 4: val_loss improved from 0.72984 to 0.72380, saving model to best_model.h5\n",
      "5469/5469 [==============================] - 82s 15ms/step - loss: 0.6066 - val_loss: 0.7238\n",
      "Epoch 5/10\n",
      "5467/5469 [============================>.] - ETA: 0s - loss: 0.5455\n",
      "Epoch 5: val_loss did not improve from 0.72380\n",
      "5469/5469 [==============================] - 82s 15ms/step - loss: 0.5455 - val_loss: 0.7461\n",
      "Epoch 6/10\n",
      "5469/5469 [==============================] - ETA: 0s - loss: 0.4876\n",
      "Epoch 6: val_loss did not improve from 0.72380\n",
      "5469/5469 [==============================] - 82s 15ms/step - loss: 0.4876 - val_loss: 0.7637\n",
      "Epoch 7/10\n",
      "5469/5469 [==============================] - ETA: 0s - loss: 0.4380\n",
      "Epoch 7: val_loss did not improve from 0.72380\n",
      "5469/5469 [==============================] - 82s 15ms/step - loss: 0.4380 - val_loss: 0.7774\n",
      "Epoch 8/10\n",
      "5469/5469 [==============================] - ETA: 0s - loss: 0.3974\n",
      "Epoch 8: val_loss did not improve from 0.72380\n",
      "5469/5469 [==============================] - 82s 15ms/step - loss: 0.3974 - val_loss: 0.8167\n",
      "Epoch 9/10\n",
      "5468/5469 [============================>.] - ETA: 0s - loss: 0.3637\n",
      "Epoch 9: val_loss did not improve from 0.72380\n",
      "5469/5469 [==============================] - 82s 15ms/step - loss: 0.3637 - val_loss: 0.8266\n",
      "Epoch 10/10\n",
      "5466/5469 [============================>.] - ETA: 0s - loss: 0.3363\n",
      "Epoch 10: val_loss did not improve from 0.72380\n",
      "5469/5469 [==============================] - 82s 15ms/step - loss: 0.3363 - val_loss: 0.8565\n"
     ]
    },
    {
     "data": {
      "text/plain": [
       "<keras.src.callbacks.History at 0x1acbe443c70>"
      ]
     },
     "execution_count": 227,
     "metadata": {},
     "output_type": "execute_result"
    }
   ],
   "source": [
    "from keras.callbacks import ModelCheckpoint\n",
    "\n",
    "# Create a ModelCheckpoint callback\n",
    "checkpoint_path = \"best_model.h5\"\n",
    "checkpoint_callback = ModelCheckpoint(checkpoint_path, monitor='val_loss', save_best_only=True, mode='min', verbose=1)\n",
    "\n",
    "\n",
    "model.fit([train_data['userEncoded'], train_data['movieEncoded']], train_data['rating'],\n",
    "          validation_data=([test_data['userEncoded'], test_data['movieEncoded']], test_data['rating']), epochs=10, batch_size=64, verbose=1,callbacks=checkpoint_callback)\n",
    "\n"
   ]
  },
  {
   "cell_type": "markdown",
   "id": "b81ed3eee2f7a054",
   "metadata": {
    "collapsed": false
   },
   "source": [
    "## Getting a sample prediction"
   ]
  },
  {
   "cell_type": "code",
   "execution_count": 236,
   "id": "f879d32fa6defcca",
   "metadata": {
    "ExecuteTime": {
     "end_time": "2023-11-17T21:36:32.306371Z",
     "start_time": "2023-11-17T21:36:32.164388600Z"
    },
    "collapsed": false
   },
   "outputs": [
    {
     "name": "stdout",
     "output_type": "stream",
     "text": [
      "1/1 [==============================] - 0s 31ms/step\n",
      "Predicted rating for user 1 and movie \"Three Colors: Blue (Trois couleurs: Bleu) (1993)\":  4.672 ⭐ ⭐ ⭐ ⭐ "
     ]
    }
   ],
   "source": [
    "# Example: Get predictions for user with user_id = 1 and movie_id = 100\n",
    "user_id = 1\n",
    "movie_id = 307\n",
    "\n",
    "# Encode user and movie IDs\n",
    "user_encoded = userEncoder.transform([user_id])[0]\n",
    "movie_encoded = movieEncoder.transform([movie_id])[0]\n",
    "\n",
    "# Make predictions using the trained model\n",
    "prediction = model.predict([np.array([user_encoded]), np.array([movie_encoded])])[0][0]\n",
    "movieTitle = df_movies.loc[df_movies['movieId'] == movie_id,'title'].values[0]\n",
    "print(f\"Predicted rating for user {user_id} and movie \\\"{movieTitle}\\\": {prediction: 0.3f}\", end=\" \")\n",
    "for i in range(int(prediction)):\n",
    "    print(\"⭐\", end=\" \")"
   ]
  }
 ],
 "metadata": {
  "kernelspec": {
   "display_name": "Python 3 (ipykernel)",
   "language": "python",
   "name": "python3"
  },
  "language_info": {
   "codemirror_mode": {
    "name": "ipython",
    "version": 3
   },
   "file_extension": ".py",
   "mimetype": "text/x-python",
   "name": "python",
   "nbconvert_exporter": "python",
   "pygments_lexer": "ipython3",
   "version": "3.10.11"
  }
 },
 "nbformat": 4,
 "nbformat_minor": 5
}
